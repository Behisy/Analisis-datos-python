{
 "cells": [
  {
   "cell_type": "code",
   "execution_count": 1,
   "id": "031acd17-1623-46ee-9776-f6d22dcc34cb",
   "metadata": {},
   "outputs": [
    {
     "name": "stdout",
     "output_type": "stream",
     "text": [
      "HOLA MUNDO\n"
     ]
    }
   ],
   "source": [
    "#Indentacion\n",
    "print(\"HOLA MUNDO\")"
   ]
  },
  {
   "cell_type": "code",
   "execution_count": 5,
   "id": "eb2b0955-737b-4a79-8b0f-29041519e065",
   "metadata": {},
   "outputs": [
    {
     "name": "stdout",
     "output_type": "stream",
     "text": [
      "false\n"
     ]
    }
   ],
   "source": [
    "x = '5'\n",
    "\n",
    "if x == 5:\n",
    "    print(\"verdadero\")\n",
    "else:\n",
    "    print(\"false\")"
   ]
  },
  {
   "cell_type": "code",
   "execution_count": 6,
   "id": "2d417982-4158-4170-a5df-2515f6ab0e2c",
   "metadata": {},
   "outputs": [
    {
     "name": "stdout",
     "output_type": "stream",
     "text": [
      "1\n"
     ]
    }
   ],
   "source": [
    "#Este es un comentario\n",
    "print(1)"
   ]
  },
  {
   "cell_type": "code",
   "execution_count": 7,
   "id": "3229c317-4a80-4d87-bdff-5b30aedc19c4",
   "metadata": {},
   "outputs": [],
   "source": [
    "# Variables\n",
    "a = 5\n",
    "b = \"Datapath\"\n",
    "c = 2.5"
   ]
  },
  {
   "cell_type": "code",
   "execution_count": 8,
   "id": "3096aec4-2b65-4a80-a4d8-0a5c2b3d1082",
   "metadata": {},
   "outputs": [
    {
     "name": "stdout",
     "output_type": "stream",
     "text": [
      "<class 'int'>\n"
     ]
    }
   ],
   "source": [
    "print(type(a))"
   ]
  },
  {
   "cell_type": "code",
   "execution_count": 9,
   "id": "29190d58-fc9b-45d7-a190-9601310e7b03",
   "metadata": {},
   "outputs": [
    {
     "name": "stdout",
     "output_type": "stream",
     "text": [
      "<class 'str'>\n"
     ]
    }
   ],
   "source": [
    "print(type(b))"
   ]
  },
  {
   "cell_type": "code",
   "execution_count": 10,
   "id": "d080719f-ca03-4e00-b03e-5f822cc86279",
   "metadata": {},
   "outputs": [
    {
     "name": "stdout",
     "output_type": "stream",
     "text": [
      "<class 'float'>\n"
     ]
    }
   ],
   "source": [
    "print(type(c))"
   ]
  },
  {
   "cell_type": "code",
   "execution_count": 11,
   "id": "450e718d-ae00-4188-89cf-10f082f874a0",
   "metadata": {},
   "outputs": [],
   "source": [
    "x,y,z =  \"lunes\", \"martes\", \"miercoles\""
   ]
  },
  {
   "cell_type": "code",
   "execution_count": 12,
   "id": "64015f2c-ce2b-4ba0-8588-5e8de9bbd911",
   "metadata": {},
   "outputs": [
    {
     "name": "stdout",
     "output_type": "stream",
     "text": [
      "lunes\n"
     ]
    }
   ],
   "source": [
    "print(x)"
   ]
  },
  {
   "cell_type": "code",
   "execution_count": 13,
   "id": "3b6d28ff-6ac1-47d9-a43c-dfc9a2a05411",
   "metadata": {},
   "outputs": [
    {
     "name": "stdout",
     "output_type": "stream",
     "text": [
      "martes\n"
     ]
    }
   ],
   "source": [
    "print(y)"
   ]
  },
  {
   "cell_type": "code",
   "execution_count": 14,
   "id": "595cda14-5947-45f0-8d88-1826b129f477",
   "metadata": {},
   "outputs": [
    {
     "name": "stdout",
     "output_type": "stream",
     "text": [
      "miercoles\n"
     ]
    }
   ],
   "source": [
    "print(z)"
   ]
  },
  {
   "cell_type": "code",
   "execution_count": null,
   "id": "dff0de86-103a-4f35-8825-84e9c73ab97e",
   "metadata": {},
   "outputs": [],
   "source": [
    "#Tipos de Datos "
   ]
  },
  {
   "cell_type": "code",
   "execution_count": 15,
   "id": "14436be4-141b-4a69-a02b-9bda1b12686e",
   "metadata": {},
   "outputs": [
    {
     "name": "stdout",
     "output_type": "stream",
     "text": [
      "lunes\n"
     ]
    }
   ],
   "source": [
    "#String\n",
    "x = 'lunes'\n",
    "print (x)"
   ]
  },
  {
   "cell_type": "code",
   "execution_count": 16,
   "id": "ab2fe36b-ed22-43e7-a97e-93c3c8af46df",
   "metadata": {},
   "outputs": [
    {
     "name": "stdout",
     "output_type": "stream",
     "text": [
      "u\n"
     ]
    }
   ],
   "source": [
    "print(x[1])"
   ]
  },
  {
   "cell_type": "code",
   "execution_count": 17,
   "id": "392879e1-553e-413c-9865-b3d6515e1ab5",
   "metadata": {},
   "outputs": [
    {
     "name": "stdout",
     "output_type": "stream",
     "text": [
      "lun\n"
     ]
    }
   ],
   "source": [
    "print(x[0:3])"
   ]
  },
  {
   "cell_type": "code",
   "execution_count": null,
   "id": "66d1bdd7-383b-491b-999e-76625770a9e9",
   "metadata": {},
   "outputs": [],
   "source": [
    "#Numericos"
   ]
  },
  {
   "cell_type": "code",
   "execution_count": null,
   "id": "d8e572bf-9065-4017-9be2-9764b431eedf",
   "metadata": {},
   "outputs": [],
   "source": [
    "a =  10\n",
    "b = 10.2\n",
    "c = 3.14j"
   ]
  },
  {
   "cell_type": "code",
   "execution_count": null,
   "id": "28938407-b55d-4fc2-8877-a6f5bed0a2d8",
   "metadata": {},
   "outputs": [],
   "source": [
    "# Listas"
   ]
  },
  {
   "cell_type": "code",
   "execution_count": null,
   "id": "0d915455-19ca-4f56-aea1-e1a1a71d71e1",
   "metadata": {},
   "outputs": [],
   "source": [
    "lista = []"
   ]
  },
  {
   "cell_type": "code",
   "execution_count": 18,
   "id": "e7e52765-d08e-4280-a183-8954cdf3cf6d",
   "metadata": {},
   "outputs": [
    {
     "name": "stdout",
     "output_type": "stream",
     "text": [
      "[1, 2, 3, 4]\n"
     ]
    }
   ],
   "source": [
    "lista = [1,2,3,4]\n",
    "print(lista)"
   ]
  },
  {
   "cell_type": "code",
   "execution_count": 19,
   "id": "8dfdcaa5-3ce5-493b-8da9-0f493c73377f",
   "metadata": {},
   "outputs": [
    {
     "name": "stdout",
     "output_type": "stream",
     "text": [
      "[1, 'lunes', 12, 2.4]\n"
     ]
    }
   ],
   "source": [
    "lista = [1, \"lunes\", 12,2.4]\n",
    "print(lista)"
   ]
  },
  {
   "cell_type": "code",
   "execution_count": 21,
   "id": "2d0cbd50-123b-42f2-ad52-b51a7addefdf",
   "metadata": {},
   "outputs": [
    {
     "name": "stdout",
     "output_type": "stream",
     "text": [
      "[1, 'lunes', [1, 2, 3], ['x']]\n"
     ]
    }
   ],
   "source": [
    "lista = [1, \"lunes\", [1,2,3], [\"x\"]]\n",
    "print(lista)"
   ]
  },
  {
   "cell_type": "code",
   "execution_count": 22,
   "id": "25725b5c-a08e-463e-9a86-7eef9f30baba",
   "metadata": {},
   "outputs": [
    {
     "name": "stdout",
     "output_type": "stream",
     "text": [
      "a\n"
     ]
    }
   ],
   "source": [
    "lista1 = ['a', 'b', 'c', 'd', 'e', 'f']\n",
    "print(lista1[0])"
   ]
  },
  {
   "cell_type": "code",
   "execution_count": 23,
   "id": "40363a6f-c4ba-40da-a1e6-91cb8f312e96",
   "metadata": {},
   "outputs": [
    {
     "name": "stdout",
     "output_type": "stream",
     "text": [
      "c\n"
     ]
    }
   ],
   "source": [
    "print(lista1[2])"
   ]
  },
  {
   "cell_type": "code",
   "execution_count": 25,
   "id": "38c6cec2-025f-40c1-a02c-fa3cea282a58",
   "metadata": {},
   "outputs": [
    {
     "name": "stdout",
     "output_type": "stream",
     "text": [
      "2\n"
     ]
    }
   ],
   "source": [
    "print(lista[2][1])"
   ]
  },
  {
   "cell_type": "code",
   "execution_count": 29,
   "id": "46089dbf-c06a-402e-9f90-69e05fe4e824",
   "metadata": {},
   "outputs": [
    {
     "name": "stdout",
     "output_type": "stream",
     "text": [
      "['a', 'b', 'c', 'd', 'e', 'f']\n"
     ]
    }
   ],
   "source": [
    "print(lista1[:])"
   ]
  },
  {
   "cell_type": "code",
   "execution_count": 30,
   "id": "fd6a758b-9021-4783-b86b-ea1f040c0c96",
   "metadata": {},
   "outputs": [
    {
     "name": "stdout",
     "output_type": "stream",
     "text": [
      "['lunes', 'b', 'c', 'd', 'e', 'f']\n"
     ]
    }
   ],
   "source": [
    "lista1[0] = x\n",
    "print(lista1)"
   ]
  },
  {
   "cell_type": "code",
   "execution_count": 32,
   "id": "11148d1d-2d02-4511-a327-7a4f80724e66",
   "metadata": {},
   "outputs": [
    {
     "name": "stdout",
     "output_type": "stream",
     "text": [
      "['lunes', 'y', ' z', 'd', 'e', 'f']\n"
     ]
    }
   ],
   "source": [
    "lista1[1:3] = ['y',' z']\n",
    "print (lista1)"
   ]
  },
  {
   "cell_type": "code",
   "execution_count": 33,
   "id": "a7cdba9d-10bc-4359-9919-14825cddab41",
   "metadata": {},
   "outputs": [
    {
     "name": "stdout",
     "output_type": "stream",
     "text": [
      "['lunes', 'y', ' z', 'd', 'e', 'f', 'marte']\n"
     ]
    }
   ],
   "source": [
    "lista1.append('marte')\n",
    "print(lista1)"
   ]
  },
  {
   "cell_type": "code",
   "execution_count": 39,
   "id": "5d64607d-1ff2-4ecc-b122-8a6e6ea62ee5",
   "metadata": {},
   "outputs": [
    {
     "name": "stdout",
     "output_type": "stream",
     "text": [
      "['lunes', 'y', ' z', 'd', 'e', 'f', 'marte', 9, 1, 3, 9, 1, 3]\n"
     ]
    }
   ],
   "source": [
    "lista1.extend([9,1,3])\n",
    "print(lista1)"
   ]
  },
  {
   "cell_type": "code",
   "execution_count": 40,
   "id": "95179bd5-c2bc-40ce-af1b-40ae7fcfcd39",
   "metadata": {},
   "outputs": [
    {
     "name": "stdout",
     "output_type": "stream",
     "text": [
      "lunes\n",
      "y\n",
      " z\n",
      "d\n",
      "e\n",
      "f\n",
      "marte\n",
      "9\n",
      "1\n",
      "3\n",
      "9\n",
      "1\n",
      "3\n"
     ]
    }
   ],
   "source": [
    "for var in lista1:\n",
    "    print(var)"
   ]
  },
  {
   "cell_type": "code",
   "execution_count": 41,
   "id": "9b4835b0-0895-49cf-9006-d4de2eb86dea",
   "metadata": {},
   "outputs": [],
   "source": [
    "# Tuplas\n",
    "\n",
    "Tupla = ()\n",
    "\n",
    "# Tupla de entero\n",
    "Tupla = (1,2,3)\n",
    "\n",
    "#Tupla Mixta\n",
    "Tupla = (1, 1.2, 'lunes')\n",
    "\n",
    "#Tupla anidada\n",
    "Tupla = (1,1.2,('lunes','martes'))"
   ]
  },
  {
   "cell_type": "code",
   "execution_count": 43,
   "id": "cd627b39-e16c-4138-ad00-4b66e891b6f8",
   "metadata": {
    "scrolled": true
   },
   "outputs": [
    {
     "name": "stdout",
     "output_type": "stream",
     "text": [
      "(1, 1.2, ('lunes', 'martes'))\n"
     ]
    }
   ],
   "source": [
    "print(Tupla)"
   ]
  },
  {
   "cell_type": "code",
   "execution_count": 44,
   "id": "89e0e40e-b214-4dc8-952b-64e390f40575",
   "metadata": {},
   "outputs": [
    {
     "name": "stdout",
     "output_type": "stream",
     "text": [
      "<class 'str'>\n"
     ]
    }
   ],
   "source": [
    "tupla = (\"lunes\")\n",
    "print(type(tupla))"
   ]
  },
  {
   "cell_type": "code",
   "execution_count": 46,
   "id": "e30692b6-92b3-4784-9dcb-49f507eeb1d0",
   "metadata": {},
   "outputs": [
    {
     "name": "stdout",
     "output_type": "stream",
     "text": [
      "<class 'tuple'>\n"
     ]
    }
   ],
   "source": [
    "tupla = (\"lunes\",)\n",
    "print(type(tupla))"
   ]
  },
  {
   "cell_type": "code",
   "execution_count": 47,
   "id": "afa79133-3e39-485f-8c58-58a80b776826",
   "metadata": {},
   "outputs": [
    {
     "name": "stdout",
     "output_type": "stream",
     "text": [
      "<class 'tuple'>\n"
     ]
    }
   ],
   "source": [
    "tupla = \"lunes\",\"martes\"\n",
    "print(type(tupla))"
   ]
  },
  {
   "cell_type": "code",
   "execution_count": 48,
   "id": "d724d570-c4e4-4fea-89b4-df84362708a3",
   "metadata": {},
   "outputs": [
    {
     "name": "stdout",
     "output_type": "stream",
     "text": [
      "a\n"
     ]
    }
   ],
   "source": [
    "tupla = ('a','b','c','d','e','f')\n",
    "print(tupla[0])"
   ]
  },
  {
   "cell_type": "code",
   "execution_count": 50,
   "id": "54af3be1-889e-4964-944e-4080d3d0f505",
   "metadata": {},
   "outputs": [
    {
     "name": "stdout",
     "output_type": "stream",
     "text": [
      "d\n"
     ]
    }
   ],
   "source": [
    "tupla = ('a','b',('c','d','e','f'))\n",
    "print(tupla[2][1])"
   ]
  },
  {
   "cell_type": "code",
   "execution_count": 51,
   "id": "d7004d58-de4a-4797-97cf-602afa8a760d",
   "metadata": {},
   "outputs": [
    {
     "name": "stdout",
     "output_type": "stream",
     "text": [
      "('b', ('c', 'd', 'e', 'f'))\n"
     ]
    }
   ],
   "source": [
    "print(tupla[1:3])"
   ]
  },
  {
   "cell_type": "code",
   "execution_count": 52,
   "id": "108e1b0b-94c6-4e35-a0cd-25f4c66d336c",
   "metadata": {},
   "outputs": [
    {
     "name": "stdout",
     "output_type": "stream",
     "text": [
      "a\n",
      "b\n",
      "('c', 'd', 'e', 'f')\n"
     ]
    }
   ],
   "source": [
    "for var in tupla:\n",
    "    print(var)"
   ]
  },
  {
   "cell_type": "code",
   "execution_count": null,
   "id": "176c5400-2887-4593-82f2-608cb6fe5f7c",
   "metadata": {},
   "outputs": [],
   "source": [
    "# Diccionarios"
   ]
  },
  {
   "cell_type": "code",
   "execution_count": 53,
   "id": "9e374737-57d3-4877-a8cf-84bda50bce19",
   "metadata": {},
   "outputs": [
    {
     "name": "stdout",
     "output_type": "stream",
     "text": [
      "{1: 'lunes', 2: 'marte', 3: 'miercoles', 4: 'jueves', 5: 'viernes'}\n"
     ]
    }
   ],
   "source": [
    "diccionario = {}\n",
    "\n",
    "diccionario = {1:'lunes', 2:'marte', 3:'miercoles', 4:'jueves', 5:'viernes'}\n",
    "print(diccionario)"
   ]
  },
  {
   "cell_type": "code",
   "execution_count": 54,
   "id": "4cd6f3b0-c28d-4a5c-bfd0-d6022d50e1a9",
   "metadata": {},
   "outputs": [
    {
     "name": "stdout",
     "output_type": "stream",
     "text": [
      "{1: 'lunes', 'nombre': 'Juan'}\n"
     ]
    }
   ],
   "source": [
    "diccionario = {1:'lunes', 'nombre':'Juan'}\n",
    "print(diccionario)"
   ]
  },
  {
   "cell_type": "code",
   "execution_count": 56,
   "id": "1d78c37b-cd27-49ab-b8d1-d345c0e75663",
   "metadata": {},
   "outputs": [
    {
     "name": "stdout",
     "output_type": "stream",
     "text": [
      "{1: 'lunes', 'nombres': ['Juan', 'Pedro']}\n"
     ]
    }
   ],
   "source": [
    "diccionario = {1:'lunes', 'nombres':['Juan','Pedro']}\n",
    "print(diccionario)"
   ]
  },
  {
   "cell_type": "code",
   "execution_count": 58,
   "id": "20a077dd-8d30-4f5f-a455-1ab9f9fee357",
   "metadata": {},
   "outputs": [
    {
     "name": "stdout",
     "output_type": "stream",
     "text": [
      "Juan\n"
     ]
    }
   ],
   "source": [
    "diccionario = {'nombre' : 'Juan', \"edad\":27, 'pais' : 'Mexico'}\n",
    "print(diccionario.get('nombre'))"
   ]
  },
  {
   "cell_type": "raw",
   "id": "6c9156d2-59ca-4126-8ac2-92686090c7d9",
   "metadata": {},
   "source": [
    "print(diccionario['telefono'])"
   ]
  },
  {
   "cell_type": "code",
   "execution_count": 59,
   "id": "cc371b7f-520c-42a2-a28f-8c21b739a554",
   "metadata": {},
   "outputs": [
    {
     "name": "stdout",
     "output_type": "stream",
     "text": [
      "None\n"
     ]
    }
   ],
   "source": [
    "print(diccionario.get('telefono'))"
   ]
  },
  {
   "cell_type": "code",
   "execution_count": 62,
   "id": "cf9ebb0e-909e-46aa-a1d7-896b53d142e5",
   "metadata": {},
   "outputs": [
    {
     "name": "stdout",
     "output_type": "stream",
     "text": [
      "{'nombre': 'Pedro', 'edad': 27, 'pais': 'Mexico'}\n"
     ]
    }
   ],
   "source": [
    "diccionario['nombre'] = 'Pedro'\n",
    "print(diccionario)"
   ]
  },
  {
   "cell_type": "code",
   "execution_count": 64,
   "id": "6d4d913e-5ade-4579-aabb-e5889674ed95",
   "metadata": {},
   "outputs": [
    {
     "name": "stdout",
     "output_type": "stream",
     "text": [
      "{'nombre': 'Pedro', 'edad': 27, 'pais': 'Mexico', 'telefono': '555555'}\n"
     ]
    }
   ],
   "source": [
    "diccionario['telefono'] = '555555'\n",
    "print(diccionario)"
   ]
  },
  {
   "cell_type": "code",
   "execution_count": 67,
   "id": "bfecc6a6-5a17-4e29-b9f7-6dee2dc86e43",
   "metadata": {},
   "outputs": [
    {
     "name": "stdout",
     "output_type": "stream",
     "text": [
      "nombre\n",
      "edad\n",
      "pais\n",
      "telefono\n"
     ]
    }
   ],
   "source": [
    "for clave in diccionario:\n",
    "    print(clave)"
   ]
  },
  {
   "cell_type": "code",
   "execution_count": 68,
   "id": "648ef07b-7997-4be2-a826-ddbd434684f8",
   "metadata": {},
   "outputs": [
    {
     "name": "stdout",
     "output_type": "stream",
     "text": [
      "Pedro\n",
      "27\n",
      "Mexico\n",
      "555555\n"
     ]
    }
   ],
   "source": [
    "for clave in diccionario:\n",
    "    print(diccionario[clave])"
   ]
  },
  {
   "cell_type": "code",
   "execution_count": null,
   "id": "86f89d39-566d-4dc1-b137-3397d3588d0e",
   "metadata": {},
   "outputs": [],
   "source": [
    "# Control de Flujo"
   ]
  },
  {
   "cell_type": "code",
   "execution_count": 73,
   "id": "c57acd30-0828-4063-a240-a87a4bc48b21",
   "metadata": {},
   "outputs": [
    {
     "name": "stdout",
     "output_type": "stream",
     "text": [
      "La variable es negativa\n",
      "Esta linea siempre se imprime\n"
     ]
    }
   ],
   "source": [
    "num = -3\n",
    "\n",
    "if num > 0:\n",
    "    print('La variables es positiva')\n",
    "else:\n",
    "    print('La variable es negativa')\n",
    "\n",
    "print('Esta linea siempre se imprime')"
   ]
  },
  {
   "cell_type": "code",
   "execution_count": 76,
   "id": "69bcbd54-69ee-4e1d-aa2e-79e544d04845",
   "metadata": {},
   "outputs": [
    {
     "name": "stdout",
     "output_type": "stream",
     "text": [
      "el numero es cero\n"
     ]
    }
   ],
   "source": [
    "num=0\n",
    "if num >= 0:\n",
    "    if num == 0:\n",
    "        print('el numero es cero')\n",
    "    else:\n",
    "        print('el num es +')\n",
    "else:\n",
    "    print('el num es -')"
   ]
  },
  {
   "cell_type": "code",
   "execution_count": null,
   "id": "003e6741-a30b-4ed3-8357-3b793d08233d",
   "metadata": {},
   "outputs": [],
   "source": [
    "# Uso del for"
   ]
  },
  {
   "cell_type": "code",
   "execution_count": 79,
   "id": "0a9a2fb1-fa06-4f25-81ed-42e8d43874b2",
   "metadata": {},
   "outputs": [
    {
     "name": "stdout",
     "output_type": "stream",
     "text": [
      "1\n",
      "2\n",
      "3\n",
      "4\n",
      "5\n"
     ]
    }
   ],
   "source": [
    "numeros = [1,2,3,4,5]\n",
    "for num in numeros:\n",
    "    print(num)"
   ]
  },
  {
   "cell_type": "code",
   "execution_count": 81,
   "id": "b1ec23ac-a85a-4dba-94eb-27b76fe258dd",
   "metadata": {},
   "outputs": [
    {
     "name": "stdout",
     "output_type": "stream",
     "text": [
      "15\n"
     ]
    }
   ],
   "source": [
    "suma = 0\n",
    "for num in numeros:\n",
    "    suma = suma + num\n",
    "\n",
    "print(suma)"
   ]
  },
  {
   "cell_type": "code",
   "execution_count": null,
   "id": "ba334a17-e7f2-488d-bbcc-9a202d204bee",
   "metadata": {},
   "outputs": [],
   "source": [
    "# while "
   ]
  },
  {
   "cell_type": "code",
   "execution_count": 82,
   "id": "db988db7-3a76-454c-9677-926d212a4f91",
   "metadata": {},
   "outputs": [
    {
     "name": "stdout",
     "output_type": "stream",
     "text": [
      "15\n"
     ]
    }
   ],
   "source": [
    "num = 5\n",
    "i = 1\n",
    "suma = 0\n",
    "\n",
    "while i <= num:\n",
    "    suma = suma + i\n",
    "    i = i + 1\n",
    "print(suma)"
   ]
  },
  {
   "cell_type": "code",
   "execution_count": null,
   "id": "1b1b9dad-16d2-42ab-9b8b-e50ceb8c98b2",
   "metadata": {},
   "outputs": [],
   "source": [
    "# Palabras Reservadas"
   ]
  },
  {
   "cell_type": "code",
   "execution_count": 85,
   "id": "7226ed17-d960-4473-b8d0-943864c75abe",
   "metadata": {},
   "outputs": [
    {
     "name": "stdout",
     "output_type": "stream",
     "text": [
      "c\n",
      "a\n",
      "d\n",
      "e\n"
     ]
    }
   ],
   "source": [
    "for val in 'cadena':\n",
    "    if val == 'n':\n",
    "        break\n",
    "    print(val)"
   ]
  },
  {
   "cell_type": "code",
   "execution_count": 87,
   "id": "cd48130b-9b9c-4e28-802d-5ed52554ccd3",
   "metadata": {},
   "outputs": [
    {
     "name": "stdout",
     "output_type": "stream",
     "text": [
      "c\n",
      "a\n",
      "d\n",
      "e\n",
      "n\n",
      "a\n"
     ]
    }
   ],
   "source": [
    "for val in 'cadena':\n",
    "    if val == 'e':\n",
    "        pass\n",
    "    print(val)"
   ]
  },
  {
   "cell_type": "code",
   "execution_count": null,
   "id": "5a181793-ee5b-4444-b5a8-eb1c35c22a8a",
   "metadata": {},
   "outputs": [],
   "source": [
    "# Funciones"
   ]
  },
  {
   "cell_type": "code",
   "execution_count": 88,
   "id": "42f8b1fe-2952-4097-a5ab-7712924b0bb8",
   "metadata": {},
   "outputs": [],
   "source": [
    "def mi_funcion():\n",
    "    pass"
   ]
  },
  {
   "cell_type": "code",
   "execution_count": 89,
   "id": "69e67745-8ebf-438a-9098-f32325517721",
   "metadata": {},
   "outputs": [],
   "source": [
    "def suma(a,b):\n",
    "    suma = a + b\n",
    "    return suma"
   ]
  },
  {
   "cell_type": "code",
   "execution_count": 90,
   "id": "96e35038-180d-4030-8e58-c38487c7ee28",
   "metadata": {},
   "outputs": [
    {
     "data": {
      "text/plain": [
       "7"
      ]
     },
     "execution_count": 90,
     "metadata": {},
     "output_type": "execute_result"
    }
   ],
   "source": [
    "suma(2,5)"
   ]
  },
  {
   "cell_type": "code",
   "execution_count": 94,
   "id": "5a26ea2e-d6a8-496c-a6d1-5457419d22bf",
   "metadata": {},
   "outputs": [],
   "source": [
    "def saludar(nombre):\n",
    "    return \"Hola \" + nombre"
   ]
  },
  {
   "cell_type": "code",
   "execution_count": 95,
   "id": "46e18a2d-3665-4310-8f20-fd7b84a04de1",
   "metadata": {},
   "outputs": [
    {
     "data": {
      "text/plain": [
       "'Hola Behisy'"
      ]
     },
     "execution_count": 95,
     "metadata": {},
     "output_type": "execute_result"
    }
   ],
   "source": [
    "saludar(\"Behisy\")"
   ]
  },
  {
   "cell_type": "code",
   "execution_count": null,
   "id": "cd820112-f848-4f91-8241-4eff4a6e8ba0",
   "metadata": {},
   "outputs": [],
   "source": []
  }
 ],
 "metadata": {
  "kernelspec": {
   "display_name": "Python 3 (ipykernel)",
   "language": "python",
   "name": "python3"
  },
  "language_info": {
   "codemirror_mode": {
    "name": "ipython",
    "version": 3
   },
   "file_extension": ".py",
   "mimetype": "text/x-python",
   "name": "python",
   "nbconvert_exporter": "python",
   "pygments_lexer": "ipython3",
   "version": "3.9.19"
  }
 },
 "nbformat": 4,
 "nbformat_minor": 5
}
